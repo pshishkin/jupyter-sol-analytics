{
 "cells": [
  {
   "cell_type": "code",
   "execution_count": 55,
   "id": "b4aa78cf",
   "metadata": {},
   "outputs": [
    {
     "data": {
      "text/plain": [
       "[1.0, 2.0, 3.0]"
      ]
     },
     "execution_count": 55,
     "metadata": {},
     "output_type": "execute_result"
    }
   ],
   "source": [
    "list(np.array([1,2,3], dtype='float64'))"
   ]
  },
  {
   "cell_type": "code",
   "execution_count": 118,
   "id": "38670c6b",
   "metadata": {},
   "outputs": [],
   "source": [
    "import solana, json\n",
    "import numpy as np\n",
    "import pandas as pd\n",
    "from datetime import datetime as dt\n",
    "from datetime import timedelta as td\n",
    "from tqdm.notebook import tqdm\n",
    "import time\n",
    "from solana.exceptions import SolanaRpcException\n"
   ]
  },
  {
   "cell_type": "code",
   "execution_count": 19,
   "id": "cba0e328",
   "metadata": {},
   "outputs": [],
   "source": [
    "from solana.rpc.api import Client\n",
    "\n",
    "c = Client(\"https://api.mainnet-beta.solana.com\")\n",
    "\n",
    "address_in_question=\"MoonRx42874sBfvKw1bgPrCYS8HARfndkUQxX27MyVr\""
   ]
  },
  {
   "cell_type": "code",
   "execution_count": 91,
   "id": "1c292839",
   "metadata": {},
   "outputs": [],
   "source": [
    "# print(tx)\n",
    "def get_tx_balance_change(tx):\n",
    "    try:\n",
    "        keys = tx['result']['transaction']['message']['accountKeys']\n",
    "        balance_deltas =\\\n",
    "            np.array(tx['result']['meta']['postBalances'], dtype='float64') -\\\n",
    "            np.array(tx['result']['meta']['preBalances'], dtype='float64')\n",
    "        balance_deltas /= 10 ** 9\n",
    "        if len(keys) == len(balance_deltas):\n",
    "            balance_deltas = list(balance_deltas)\n",
    "            return pd.DataFrame(\n",
    "                {\n",
    "                    \"key\": keys,\n",
    "                    \"balance_delta\": balance_deltas,\n",
    "                    \"tx_count\": [1] * len(keys),\n",
    "                }\n",
    "            )\n",
    "    except KeyError:\n",
    "        print(tx)\n",
    "\n",
    "# get_tx_balance_change(tx)\n",
    "\n",
    "def get_changes_from_transactions(txs):\n",
    "    return pd.concat([get_tx_balance_change(tx) for tx in txs], ignore_index=True)"
   ]
  },
  {
   "cell_type": "markdown",
   "id": "2110398d",
   "metadata": {},
   "source": [
    "# Start executing from here"
   ]
  },
  {
   "cell_type": "code",
   "execution_count": 135,
   "id": "ee0c72e4",
   "metadata": {},
   "outputs": [],
   "source": [
    "search_till = dt.now() - td(days=1)"
   ]
  },
  {
   "cell_type": "code",
   "execution_count": 136,
   "id": "9247c29e",
   "metadata": {},
   "outputs": [
    {
     "name": "stdout",
     "output_type": "stream",
     "text": [
      "found 264 transactions\n",
      "downloading transactions...\n"
     ]
    },
    {
     "data": {
      "application/vnd.jupyter.widget-view+json": {
       "model_id": "fea2b82aff8143df83d07ab94479023a",
       "version_major": 2,
       "version_minor": 0
      },
      "text/plain": [
       "  0%|          | 0/264 [00:00<?, ?it/s]"
      ]
     },
     "metadata": {},
     "output_type": "display_data"
    },
    {
     "name": "stdout",
     "output_type": "stream",
     "text": [
      "Waiting 5s due to too many requests\n",
      "Waiting 5s due to too many requests\n",
      "Waiting 5s due to too many requests\n",
      "Got 810 balance changes\n"
     ]
    }
   ],
   "source": [
    "transactions = c.get_signatures_for_address(address_in_question, limit=1000)['result']\n",
    "\n",
    "transactions_before_filtering = transactions\n",
    "\n",
    "transactions = [\n",
    "    tx for tx in transactions\n",
    "    if dt.fromtimestamp(tx['blockTime']) > search_till\n",
    "]\n",
    "\n",
    "if len(transactions) == len(transactions_before_filtering):\n",
    "    raise Exception('Not enough data for selected time frame, try smaller timeframe')\n",
    "\n",
    "print(f'found {len(transactions)} transactions')\n",
    "\n",
    "print('downloading transactions...')\n",
    "# transactions_details = [c.get_transaction(tx['signature']) for tx in transactions]\n",
    "transactions_details = []\n",
    "for tx in tqdm(transactions):\n",
    "    tx_details = None\n",
    "    while not tx_details:\n",
    "        try:\n",
    "            tx_details = c.get_transaction(tx['signature'])\n",
    "        except SolanaRpcException as exc_info:\n",
    "            print(f\"Waiting 10s due to too many requests\")\n",
    "            time.sleep(10.0)\n",
    "    transactions_details.append(tx_details)\n",
    "\n",
    "balance_changes = get_changes_from_transactions(transactions_details)\n",
    "print(f\"Got {len(balance_changes)} balance changes\")"
   ]
  },
  {
   "cell_type": "code",
   "execution_count": 139,
   "id": "5d57a7cf",
   "metadata": {},
   "outputs": [],
   "source": [
    "top_changes = balance_changes.groupby(\"key\").sum()"
   ]
  },
  {
   "cell_type": "code",
   "execution_count": 140,
   "id": "009d9660",
   "metadata": {},
   "outputs": [
    {
     "data": {
      "text/html": [
       "<div>\n",
       "<style scoped>\n",
       "    .dataframe tbody tr th:only-of-type {\n",
       "        vertical-align: middle;\n",
       "    }\n",
       "\n",
       "    .dataframe tbody tr th {\n",
       "        vertical-align: top;\n",
       "    }\n",
       "\n",
       "    .dataframe thead th {\n",
       "        text-align: right;\n",
       "    }\n",
       "</style>\n",
       "<table border=\"1\" class=\"dataframe\">\n",
       "  <thead>\n",
       "    <tr style=\"text-align: right;\">\n",
       "      <th></th>\n",
       "      <th>balance_delta</th>\n",
       "      <th>tx_count</th>\n",
       "    </tr>\n",
       "    <tr>\n",
       "      <th>key</th>\n",
       "      <th></th>\n",
       "      <th></th>\n",
       "    </tr>\n",
       "  </thead>\n",
       "  <tbody>\n",
       "    <tr>\n",
       "      <th>Cp5XbkoATWNYFXSPBpzEy9unHywtm4Yb7RF6mExxv8p3</th>\n",
       "      <td>-14.225935</td>\n",
       "      <td>63</td>\n",
       "    </tr>\n",
       "    <tr>\n",
       "      <th>TuhvpbzM2dqzw3hkRgM3gAMyLRNGm1qgvU9x6Npj51f</th>\n",
       "      <td>-3.626297</td>\n",
       "      <td>17</td>\n",
       "    </tr>\n",
       "    <tr>\n",
       "      <th>5kZXu9i4wkm7VMu5XaLrgDXzkWdziLCn9f3JVp9iBTM8</th>\n",
       "      <td>-3.000030</td>\n",
       "      <td>6</td>\n",
       "    </tr>\n",
       "    <tr>\n",
       "      <th>J1H7NUZZu8DNN6WHosbHH4RKWWA39CTaEMg2VfB2boAh</th>\n",
       "      <td>-2.300020</td>\n",
       "      <td>4</td>\n",
       "    </tr>\n",
       "    <tr>\n",
       "      <th>2Xn5XGqJHUY4s99prc2zXMm9bowqdBaKJdExguCQ9x3w</th>\n",
       "      <td>-2.222054</td>\n",
       "      <td>3</td>\n",
       "    </tr>\n",
       "    <tr>\n",
       "      <th>424DYBD224mT5qHzNyKqKdNDh3RtA74p1S4QEDqhEoN7</th>\n",
       "      <td>-1.034514</td>\n",
       "      <td>8</td>\n",
       "    </tr>\n",
       "    <tr>\n",
       "      <th>6Vokuwac5qRdv3W8R4zSX4U4ayxhqL9yjLgj5YAfnN5i</th>\n",
       "      <td>-0.600005</td>\n",
       "      <td>1</td>\n",
       "    </tr>\n",
       "    <tr>\n",
       "      <th>5PQs4PS74Nns5RaJwPMExV2ysovWw4YGrUmDyUdHMsBR</th>\n",
       "      <td>-0.565020</td>\n",
       "      <td>4</td>\n",
       "    </tr>\n",
       "    <tr>\n",
       "      <th>HGz6USzeTCmsexpFD4aKTgfBYDvt7kgypxxoygRqcbAY</th>\n",
       "      <td>-0.530005</td>\n",
       "      <td>1</td>\n",
       "    </tr>\n",
       "    <tr>\n",
       "      <th>FVTyydN2Xf2FecxiTM8EqFHgtaeShi9GH5W91MEq7SPU</th>\n",
       "      <td>-0.502896</td>\n",
       "      <td>1</td>\n",
       "    </tr>\n",
       "  </tbody>\n",
       "</table>\n",
       "</div>"
      ],
      "text/plain": [
       "                                              balance_delta  tx_count\n",
       "key                                                                  \n",
       "Cp5XbkoATWNYFXSPBpzEy9unHywtm4Yb7RF6mExxv8p3     -14.225935        63\n",
       "TuhvpbzM2dqzw3hkRgM3gAMyLRNGm1qgvU9x6Npj51f       -3.626297        17\n",
       "5kZXu9i4wkm7VMu5XaLrgDXzkWdziLCn9f3JVp9iBTM8      -3.000030         6\n",
       "J1H7NUZZu8DNN6WHosbHH4RKWWA39CTaEMg2VfB2boAh      -2.300020         4\n",
       "2Xn5XGqJHUY4s99prc2zXMm9bowqdBaKJdExguCQ9x3w      -2.222054         3\n",
       "424DYBD224mT5qHzNyKqKdNDh3RtA74p1S4QEDqhEoN7      -1.034514         8\n",
       "6Vokuwac5qRdv3W8R4zSX4U4ayxhqL9yjLgj5YAfnN5i      -0.600005         1\n",
       "5PQs4PS74Nns5RaJwPMExV2ysovWw4YGrUmDyUdHMsBR      -0.565020         4\n",
       "HGz6USzeTCmsexpFD4aKTgfBYDvt7kgypxxoygRqcbAY      -0.530005         1\n",
       "FVTyydN2Xf2FecxiTM8EqFHgtaeShi9GH5W91MEq7SPU      -0.502896         1"
      ]
     },
     "execution_count": 140,
     "metadata": {},
     "output_type": "execute_result"
    }
   ],
   "source": [
    "# top growth\n",
    "top_changes.sort_values(by=\"balance_delta\")[:10]"
   ]
  },
  {
   "cell_type": "code",
   "execution_count": 141,
   "id": "92908ca6",
   "metadata": {},
   "outputs": [
    {
     "data": {
      "text/html": [
       "<div>\n",
       "<style scoped>\n",
       "    .dataframe tbody tr th:only-of-type {\n",
       "        vertical-align: middle;\n",
       "    }\n",
       "\n",
       "    .dataframe tbody tr th {\n",
       "        vertical-align: top;\n",
       "    }\n",
       "\n",
       "    .dataframe thead th {\n",
       "        text-align: right;\n",
       "    }\n",
       "</style>\n",
       "<table border=\"1\" class=\"dataframe\">\n",
       "  <thead>\n",
       "    <tr style=\"text-align: right;\">\n",
       "      <th></th>\n",
       "      <th>balance_delta</th>\n",
       "      <th>tx_count</th>\n",
       "    </tr>\n",
       "    <tr>\n",
       "      <th>key</th>\n",
       "      <th></th>\n",
       "      <th></th>\n",
       "    </tr>\n",
       "  </thead>\n",
       "  <tbody>\n",
       "    <tr>\n",
       "      <th>MoonRx42874sBfvKw1bgPrCYS8HARfndkUQxX27MyVr</th>\n",
       "      <td>27.289466</td>\n",
       "      <td>264</td>\n",
       "    </tr>\n",
       "    <tr>\n",
       "      <th>AtjkBwbC6fy9kmKUU4wqFkj4dcudear4fGgVCtomDYoG</th>\n",
       "      <td>1.699625</td>\n",
       "      <td>19</td>\n",
       "    </tr>\n",
       "    <tr>\n",
       "      <th>DZDoNuBcrvJ4pddWr4SPwdsuFd3tZLxGZNMDvdvEm1Tc</th>\n",
       "      <td>1.287034</td>\n",
       "      <td>8</td>\n",
       "    </tr>\n",
       "    <tr>\n",
       "      <th>EtNeDT7VT2hyU56eKTUX7Ldy7r3kTP9KarEHmybLUwb2</th>\n",
       "      <td>1.225320</td>\n",
       "      <td>3</td>\n",
       "    </tr>\n",
       "    <tr>\n",
       "      <th>4yfwH71ec7oHxqJM1v8iXyHZVF1o238xjNLAKaFkofZv</th>\n",
       "      <td>0.883915</td>\n",
       "      <td>7</td>\n",
       "    </tr>\n",
       "    <tr>\n",
       "      <th>GpFE35ZkUHKkUjZJDtxwWLcmt1h3QHknDpv6CnVBoJZW</th>\n",
       "      <td>0.881009</td>\n",
       "      <td>2</td>\n",
       "    </tr>\n",
       "    <tr>\n",
       "      <th>CzX3j1Kv6vPfdYs2NQ9NT5wtyZp48sU1sKhcbQDy6CMS</th>\n",
       "      <td>0.313760</td>\n",
       "      <td>2</td>\n",
       "    </tr>\n",
       "    <tr>\n",
       "      <th>9kviA5p6b7Nehh4Y3gXSDigFd6PSVcutBzdUbdThK9Kv</th>\n",
       "      <td>0.311867</td>\n",
       "      <td>1</td>\n",
       "    </tr>\n",
       "    <tr>\n",
       "      <th>D26TRCH35EuDAiksvMVjNDrsDqavL5PQqJvJ9knxkKNp</th>\n",
       "      <td>0.251102</td>\n",
       "      <td>2</td>\n",
       "    </tr>\n",
       "    <tr>\n",
       "      <th>61bm64MvVAbkPyw3XNyHQHoMmFdHyyi2W4Shtp2p8YCG</th>\n",
       "      <td>0.181667</td>\n",
       "      <td>2</td>\n",
       "    </tr>\n",
       "  </tbody>\n",
       "</table>\n",
       "</div>"
      ],
      "text/plain": [
       "                                              balance_delta  tx_count\n",
       "key                                                                  \n",
       "MoonRx42874sBfvKw1bgPrCYS8HARfndkUQxX27MyVr       27.289466       264\n",
       "AtjkBwbC6fy9kmKUU4wqFkj4dcudear4fGgVCtomDYoG       1.699625        19\n",
       "DZDoNuBcrvJ4pddWr4SPwdsuFd3tZLxGZNMDvdvEm1Tc       1.287034         8\n",
       "EtNeDT7VT2hyU56eKTUX7Ldy7r3kTP9KarEHmybLUwb2       1.225320         3\n",
       "4yfwH71ec7oHxqJM1v8iXyHZVF1o238xjNLAKaFkofZv       0.883915         7\n",
       "GpFE35ZkUHKkUjZJDtxwWLcmt1h3QHknDpv6CnVBoJZW       0.881009         2\n",
       "CzX3j1Kv6vPfdYs2NQ9NT5wtyZp48sU1sKhcbQDy6CMS       0.313760         2\n",
       "9kviA5p6b7Nehh4Y3gXSDigFd6PSVcutBzdUbdThK9Kv       0.311867         1\n",
       "D26TRCH35EuDAiksvMVjNDrsDqavL5PQqJvJ9knxkKNp       0.251102         2\n",
       "61bm64MvVAbkPyw3XNyHQHoMmFdHyyi2W4Shtp2p8YCG       0.181667         2"
      ]
     },
     "execution_count": 141,
     "metadata": {},
     "output_type": "execute_result"
    }
   ],
   "source": [
    "# top lose\n",
    "top_changes.sort_values(by=\"balance_delta\", ascending=False)[:10]"
   ]
  },
  {
   "cell_type": "code",
   "execution_count": 142,
   "id": "1b5777ff",
   "metadata": {},
   "outputs": [
    {
     "data": {
      "text/html": [
       "<div>\n",
       "<style scoped>\n",
       "    .dataframe tbody tr th:only-of-type {\n",
       "        vertical-align: middle;\n",
       "    }\n",
       "\n",
       "    .dataframe tbody tr th {\n",
       "        vertical-align: top;\n",
       "    }\n",
       "\n",
       "    .dataframe thead th {\n",
       "        text-align: right;\n",
       "    }\n",
       "</style>\n",
       "<table border=\"1\" class=\"dataframe\">\n",
       "  <thead>\n",
       "    <tr style=\"text-align: right;\">\n",
       "      <th></th>\n",
       "      <th>balance_delta</th>\n",
       "      <th>tx_count</th>\n",
       "    </tr>\n",
       "    <tr>\n",
       "      <th>key</th>\n",
       "      <th></th>\n",
       "      <th></th>\n",
       "    </tr>\n",
       "  </thead>\n",
       "  <tbody>\n",
       "    <tr>\n",
       "      <th>11111111111111111111111111111111</th>\n",
       "      <td>0.000000</td>\n",
       "      <td>264</td>\n",
       "    </tr>\n",
       "    <tr>\n",
       "      <th>MoonRx42874sBfvKw1bgPrCYS8HARfndkUQxX27MyVr</th>\n",
       "      <td>27.289466</td>\n",
       "      <td>264</td>\n",
       "    </tr>\n",
       "    <tr>\n",
       "      <th>Cp5XbkoATWNYFXSPBpzEy9unHywtm4Yb7RF6mExxv8p3</th>\n",
       "      <td>-14.225935</td>\n",
       "      <td>63</td>\n",
       "    </tr>\n",
       "    <tr>\n",
       "      <th>AtjkBwbC6fy9kmKUU4wqFkj4dcudear4fGgVCtomDYoG</th>\n",
       "      <td>1.699625</td>\n",
       "      <td>19</td>\n",
       "    </tr>\n",
       "    <tr>\n",
       "      <th>TuhvpbzM2dqzw3hkRgM3gAMyLRNGm1qgvU9x6Npj51f</th>\n",
       "      <td>-3.626297</td>\n",
       "      <td>17</td>\n",
       "    </tr>\n",
       "    <tr>\n",
       "      <th>2WmtNBEsNP7HnMUUoGMcjs11zAmQwVtfjxtCo2zDqY1F</th>\n",
       "      <td>-0.160000</td>\n",
       "      <td>9</td>\n",
       "    </tr>\n",
       "    <tr>\n",
       "      <th>424DYBD224mT5qHzNyKqKdNDh3RtA74p1S4QEDqhEoN7</th>\n",
       "      <td>-1.034514</td>\n",
       "      <td>8</td>\n",
       "    </tr>\n",
       "    <tr>\n",
       "      <th>Cphc2RijJ3GpUXCML82WSBBGUBeZNAaXt6jCMXYMX5AU</th>\n",
       "      <td>-0.196291</td>\n",
       "      <td>8</td>\n",
       "    </tr>\n",
       "    <tr>\n",
       "      <th>DZDoNuBcrvJ4pddWr4SPwdsuFd3tZLxGZNMDvdvEm1Tc</th>\n",
       "      <td>1.287034</td>\n",
       "      <td>8</td>\n",
       "    </tr>\n",
       "    <tr>\n",
       "      <th>Eh8zpbiLYExy5sEzk9UUmTC5tHBXQeMrpEr9obE9kuaD</th>\n",
       "      <td>-0.253549</td>\n",
       "      <td>7</td>\n",
       "    </tr>\n",
       "  </tbody>\n",
       "</table>\n",
       "</div>"
      ],
      "text/plain": [
       "                                              balance_delta  tx_count\n",
       "key                                                                  \n",
       "11111111111111111111111111111111                   0.000000       264\n",
       "MoonRx42874sBfvKw1bgPrCYS8HARfndkUQxX27MyVr       27.289466       264\n",
       "Cp5XbkoATWNYFXSPBpzEy9unHywtm4Yb7RF6mExxv8p3     -14.225935        63\n",
       "AtjkBwbC6fy9kmKUU4wqFkj4dcudear4fGgVCtomDYoG       1.699625        19\n",
       "TuhvpbzM2dqzw3hkRgM3gAMyLRNGm1qgvU9x6Npj51f       -3.626297        17\n",
       "2WmtNBEsNP7HnMUUoGMcjs11zAmQwVtfjxtCo2zDqY1F      -0.160000         9\n",
       "424DYBD224mT5qHzNyKqKdNDh3RtA74p1S4QEDqhEoN7      -1.034514         8\n",
       "Cphc2RijJ3GpUXCML82WSBBGUBeZNAaXt6jCMXYMX5AU      -0.196291         8\n",
       "DZDoNuBcrvJ4pddWr4SPwdsuFd3tZLxGZNMDvdvEm1Tc       1.287034         8\n",
       "Eh8zpbiLYExy5sEzk9UUmTC5tHBXQeMrpEr9obE9kuaD      -0.253549         7"
      ]
     },
     "execution_count": 142,
     "metadata": {},
     "output_type": "execute_result"
    }
   ],
   "source": [
    "# top transactions\n",
    "top_changes.sort_values(by=\"tx_count\", ascending=False)[:10]"
   ]
  },
  {
   "cell_type": "code",
   "execution_count": null,
   "id": "0e99a9a3",
   "metadata": {},
   "outputs": [],
   "source": []
  }
 ],
 "metadata": {
  "kernelspec": {
   "display_name": "Python 3 (ipykernel)",
   "language": "python",
   "name": "python3"
  },
  "language_info": {
   "codemirror_mode": {
    "name": "ipython",
    "version": 3
   },
   "file_extension": ".py",
   "mimetype": "text/x-python",
   "name": "python",
   "nbconvert_exporter": "python",
   "pygments_lexer": "ipython3",
   "version": "3.10.4"
  }
 },
 "nbformat": 4,
 "nbformat_minor": 5
}
